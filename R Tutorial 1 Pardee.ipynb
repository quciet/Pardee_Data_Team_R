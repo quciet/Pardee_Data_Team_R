{
 "cells": [
  {
   "cell_type": "markdown",
   "metadata": {},
   "source": [
    "# Install requried packages\n",
    "## Each package only needs to be installed once;"
   ]
  },
  {
   "cell_type": "code",
   "execution_count": 1,
   "metadata": {},
   "outputs": [],
   "source": [
    "# install.packages(c(\"data.table\",\"openxlsx\",\"readxl\"))"
   ]
  },
  {
   "cell_type": "markdown",
   "metadata": {},
   "source": [
    "# Load packages\n",
    "## Each package needs to be called once each time you open up R;"
   ]
  },
  {
   "cell_type": "code",
   "execution_count": 2,
   "metadata": {},
   "outputs": [
    {
     "name": "stderr",
     "output_type": "stream",
     "text": [
      "Warning message:\n",
      "“package ‘data.table’ was built under R version 3.5.2”"
     ]
    }
   ],
   "source": [
    "library(data.table)\n",
    "library(openxlsx)\n",
    "library(readxl)"
   ]
  },
  {
   "cell_type": "markdown",
   "metadata": {},
   "source": [
    "# Create different data type in R\n",
    "- numeric/ charactor/ logical\n",
    "- vector\n",
    "- data.frame/ data.table"
   ]
  },
  {
   "cell_type": "code",
   "execution_count": 3,
   "metadata": {},
   "outputs": [
    {
     "data": {
      "text/html": [
       "'numeric'"
      ],
      "text/latex": [
       "'numeric'"
      ],
      "text/markdown": [
       "'numeric'"
      ],
      "text/plain": [
       "[1] \"numeric\""
      ]
     },
     "metadata": {},
     "output_type": "display_data"
    },
    {
     "name": "stdout",
     "output_type": "stream",
     "text": [
      " num 12\n"
     ]
    }
   ],
   "source": [
    "class(12)\n",
    "str(12)"
   ]
  },
  {
   "cell_type": "code",
   "execution_count": 4,
   "metadata": {},
   "outputs": [
    {
     "name": "stdout",
     "output_type": "stream",
     "text": [
      " chr \"haha\"\n",
      " logi TRUE\n",
      " chr \"12\"\n"
     ]
    }
   ],
   "source": [
    "str(\"haha\") # or 'haha'\n",
    "str(TRUE) # or T\n",
    "str( as.character(12) )"
   ]
  },
  {
   "cell_type": "code",
   "execution_count": 5,
   "metadata": {},
   "outputs": [
    {
     "data": {
      "text/html": [
       "'integer'"
      ],
      "text/latex": [
       "'integer'"
      ],
      "text/markdown": [
       "'integer'"
      ],
      "text/plain": [
       "[1] \"integer\""
      ]
     },
     "metadata": {},
     "output_type": "display_data"
    },
    {
     "name": "stdout",
     "output_type": "stream",
     "text": [
      " int [1:5] 12 13 14 15 16\n",
      " chr [1:3] \"12\" \"haha\" \"TRUE\"\n",
      " logi [1:3] TRUE FALSE TRUE\n"
     ]
    }
   ],
   "source": [
    "class(c(12:16)) # or class(c(12,13,14,15,16))\n",
    "str(c(12:16))\n",
    "str(c(12,'haha',T))\n",
    "str(c(T,F,T))"
   ]
  },
  {
   "cell_type": "markdown",
   "metadata": {},
   "source": [
    "#### Assign or Print? "
   ]
  },
  {
   "cell_type": "code",
   "execution_count": 6,
   "metadata": {},
   "outputs": [
    {
     "data": {
      "text/html": [
       "<ol class=list-inline>\n",
       "\t<li>3</li>\n",
       "\t<li>4</li>\n",
       "\t<li>5</li>\n",
       "\t<li>6</li>\n",
       "</ol>\n"
      ],
      "text/latex": [
       "\\begin{enumerate*}\n",
       "\\item 3\n",
       "\\item 4\n",
       "\\item 5\n",
       "\\item 6\n",
       "\\end{enumerate*}\n"
      ],
      "text/markdown": [
       "1. 3\n",
       "2. 4\n",
       "3. 5\n",
       "4. 6\n",
       "\n",
       "\n"
      ],
      "text/plain": [
       "[1] 3 4 5 6"
      ]
     },
     "metadata": {},
     "output_type": "display_data"
    },
    {
     "data": {
      "text/html": [
       "<ol class=list-inline>\n",
       "\t<li>3</li>\n",
       "\t<li>4</li>\n",
       "\t<li>5</li>\n",
       "\t<li>6</li>\n",
       "</ol>\n"
      ],
      "text/latex": [
       "\\begin{enumerate*}\n",
       "\\item 3\n",
       "\\item 4\n",
       "\\item 5\n",
       "\\item 6\n",
       "\\end{enumerate*}\n"
      ],
      "text/markdown": [
       "1. 3\n",
       "2. 4\n",
       "3. 5\n",
       "4. 6\n",
       "\n",
       "\n"
      ],
      "text/plain": [
       "[1] 3 4 5 6"
      ]
     },
     "metadata": {},
     "output_type": "display_data"
    },
    {
     "data": {
      "text/html": [
       "4"
      ],
      "text/latex": [
       "4"
      ],
      "text/markdown": [
       "4"
      ],
      "text/plain": [
       "[1] 4"
      ]
     },
     "metadata": {},
     "output_type": "display_data"
    }
   ],
   "source": [
    "c(3:6)\n",
    "v<-c(3:6) # or v=c(3:6)\n",
    "v    # try print(v)\n",
    "length(v)"
   ]
  },
  {
   "cell_type": "code",
   "execution_count": 7,
   "metadata": {},
   "outputs": [
    {
     "data": {
      "text/html": [
       "<table>\n",
       "<thead><tr><th scope=col>Year</th><th scope=col>Country</th><th scope=col>Value</th></tr></thead>\n",
       "<tbody>\n",
       "\t<tr><td>1992         </td><td>China        </td><td>1146         </td></tr>\n",
       "\t<tr><td>1993         </td><td>China        </td><td>2342         </td></tr>\n",
       "\t<tr><td>1994         </td><td>United States</td><td> 678         </td></tr>\n",
       "\t<tr><td>1995         </td><td>Russia       </td><td> 212         </td></tr>\n",
       "\t<tr><td>1996         </td><td>Russia       </td><td>  20         </td></tr>\n",
       "\t<tr><td>1993         </td><td>China        </td><td>2342         </td></tr>\n",
       "\t<tr><td>1997         </td><td>Russia       </td><td>  NA         </td></tr>\n",
       "\t<tr><td>1993         </td><td>China        </td><td>2342         </td></tr>\n",
       "</tbody>\n",
       "</table>\n"
      ],
      "text/latex": [
       "\\begin{tabular}{r|lll}\n",
       " Year & Country & Value\\\\\n",
       "\\hline\n",
       "\t 1992          & China         & 1146         \\\\\n",
       "\t 1993          & China         & 2342         \\\\\n",
       "\t 1994          & United States &  678         \\\\\n",
       "\t 1995          & Russia        &  212         \\\\\n",
       "\t 1996          & Russia        &   20         \\\\\n",
       "\t 1993          & China         & 2342         \\\\\n",
       "\t 1997          & Russia        &   NA         \\\\\n",
       "\t 1993          & China         & 2342         \\\\\n",
       "\\end{tabular}\n"
      ],
      "text/markdown": [
       "\n",
       "| Year | Country | Value |\n",
       "|---|---|---|\n",
       "| 1992          | China         | 1146          |\n",
       "| 1993          | China         | 2342          |\n",
       "| 1994          | United States |  678          |\n",
       "| 1995          | Russia        |  212          |\n",
       "| 1996          | Russia        |   20          |\n",
       "| 1993          | China         | 2342          |\n",
       "| 1997          | Russia        |   NA          |\n",
       "| 1993          | China         | 2342          |\n",
       "\n"
      ],
      "text/plain": [
       "  Year Country       Value\n",
       "1 1992 China         1146 \n",
       "2 1993 China         2342 \n",
       "3 1994 United States  678 \n",
       "4 1995 Russia         212 \n",
       "5 1996 Russia          20 \n",
       "6 1993 China         2342 \n",
       "7 1997 Russia          NA \n",
       "8 1993 China         2342 "
      ]
     },
     "metadata": {},
     "output_type": "display_data"
    }
   ],
   "source": [
    "df<-data.frame(Year=c(1992,1993,1994,1995,1996,1993,1997,1993),\n",
    "            Country=c('China','China','United States','Russia','Russia','China','Russia','China'),\n",
    "            Value=c(1146,2342,678,212,20,2342,NA,2342))\n",
    "df"
   ]
  },
  {
   "cell_type": "code",
   "execution_count": 8,
   "metadata": {},
   "outputs": [
    {
     "data": {
      "text/html": [
       "<table>\n",
       "<thead><tr><th scope=col>Year</th><th scope=col>Country</th><th scope=col>Value</th></tr></thead>\n",
       "<tbody>\n",
       "\t<tr><td>1992         </td><td>China        </td><td>1146         </td></tr>\n",
       "\t<tr><td>1993         </td><td>China        </td><td>2342         </td></tr>\n",
       "\t<tr><td>1994         </td><td>United States</td><td> 678         </td></tr>\n",
       "\t<tr><td>1995         </td><td>Russia       </td><td> 212         </td></tr>\n",
       "\t<tr><td>1996         </td><td>Russia       </td><td>  20         </td></tr>\n",
       "\t<tr><td>1993         </td><td>China        </td><td>2342         </td></tr>\n",
       "\t<tr><td>1997         </td><td>Russia       </td><td>  NA         </td></tr>\n",
       "\t<tr><td>1993         </td><td>China        </td><td>2342         </td></tr>\n",
       "</tbody>\n",
       "</table>\n"
      ],
      "text/latex": [
       "\\begin{tabular}{r|lll}\n",
       " Year & Country & Value\\\\\n",
       "\\hline\n",
       "\t 1992          & China         & 1146         \\\\\n",
       "\t 1993          & China         & 2342         \\\\\n",
       "\t 1994          & United States &  678         \\\\\n",
       "\t 1995          & Russia        &  212         \\\\\n",
       "\t 1996          & Russia        &   20         \\\\\n",
       "\t 1993          & China         & 2342         \\\\\n",
       "\t 1997          & Russia        &   NA         \\\\\n",
       "\t 1993          & China         & 2342         \\\\\n",
       "\\end{tabular}\n"
      ],
      "text/markdown": [
       "\n",
       "| Year | Country | Value |\n",
       "|---|---|---|\n",
       "| 1992          | China         | 1146          |\n",
       "| 1993          | China         | 2342          |\n",
       "| 1994          | United States |  678          |\n",
       "| 1995          | Russia        |  212          |\n",
       "| 1996          | Russia        |   20          |\n",
       "| 1993          | China         | 2342          |\n",
       "| 1997          | Russia        |   NA          |\n",
       "| 1993          | China         | 2342          |\n",
       "\n"
      ],
      "text/plain": [
       "  Year Country       Value\n",
       "1 1992 China         1146 \n",
       "2 1993 China         2342 \n",
       "3 1994 United States  678 \n",
       "4 1995 Russia         212 \n",
       "5 1996 Russia          20 \n",
       "6 1993 China         2342 \n",
       "7 1997 Russia          NA \n",
       "8 1993 China         2342 "
      ]
     },
     "metadata": {},
     "output_type": "display_data"
    },
    {
     "data": {
      "text/html": [
       "<ol class=list-inline>\n",
       "\t<li>'data.table'</li>\n",
       "\t<li>'data.frame'</li>\n",
       "</ol>\n"
      ],
      "text/latex": [
       "\\begin{enumerate*}\n",
       "\\item 'data.table'\n",
       "\\item 'data.frame'\n",
       "\\end{enumerate*}\n"
      ],
      "text/markdown": [
       "1. 'data.table'\n",
       "2. 'data.frame'\n",
       "\n",
       "\n"
      ],
      "text/plain": [
       "[1] \"data.table\" \"data.frame\""
      ]
     },
     "metadata": {},
     "output_type": "display_data"
    },
    {
     "name": "stdout",
     "output_type": "stream",
     "text": [
      "Classes ‘data.table’ and 'data.frame':\t8 obs. of  3 variables:\n",
      " $ Year   : num  1992 1993 1994 1995 1996 ...\n",
      " $ Country: chr  \"China\" \"China\" \"United States\" \"Russia\" ...\n",
      " $ Value  : num  1146 2342 678 212 20 ...\n",
      " - attr(*, \".internal.selfref\")=<externalptr> \n"
     ]
    }
   ],
   "source": [
    "dt<-data.table(Year=c(1992,1993,1994,1995,1996,1993,1997,1993),\n",
    "            Country=c('China','China','United States','Russia','Russia','China','Russia','China'),\n",
    "            Value=c(1146,2342,678,212,20,2342,NA,2342)) \n",
    "## try dt<-as.data.table(df)\n",
    "dt\n",
    "class(dt)\n",
    "str(dt)"
   ]
  },
  {
   "cell_type": "markdown",
   "metadata": {},
   "source": [
    "# Data Summary\n",
    "### Tip: R can support data in almost all formats \n",
    "######         Well, as long as you find the corret package :)  \n",
    "### Use the above data as an example\n",
    "- export & import data\n",
    "- summary statistics\n",
    "- get access to values in the data"
   ]
  },
  {
   "cell_type": "code",
   "execution_count": 9,
   "metadata": {},
   "outputs": [],
   "source": [
    "# ?write.xlsx\n",
    "write.xlsx(dt,\"TestDT.xlsx\",sheetName=\"test\",colNames=T) \n",
    "# note: you can only use the relative path when you open the R script in the corresponding directory\n",
    "# Otherwise, use absolute path instead, see an example below\n",
    "# \"/Users/Xyt/Desktop/Pardee Center/Influence Data/influence dataset 6.20.17.dta\""
   ]
  },
  {
   "cell_type": "code",
   "execution_count": 10,
   "metadata": {},
   "outputs": [
    {
     "name": "stderr",
     "output_type": "stream",
     "text": [
      "readxl works best with a newer version of the tibble package.\n",
      "You currently have tibble v1.4.2.\n",
      "Falling back to column name repair from tibble <= v1.4.2.\n",
      "Message displays once per session.\n"
     ]
    },
    {
     "data": {
      "text/html": [
       "<table>\n",
       "<thead><tr><th scope=col>Year</th><th scope=col>Country</th><th scope=col>Value</th></tr></thead>\n",
       "<tbody>\n",
       "\t<tr><td>1992         </td><td>China        </td><td>1146         </td></tr>\n",
       "\t<tr><td>1993         </td><td>China        </td><td>2342         </td></tr>\n",
       "\t<tr><td>1994         </td><td>United States</td><td> 678         </td></tr>\n",
       "\t<tr><td>1995         </td><td>Russia       </td><td> 212         </td></tr>\n",
       "\t<tr><td>1996         </td><td>Russia       </td><td>  20         </td></tr>\n",
       "\t<tr><td>1993         </td><td>China        </td><td>2342         </td></tr>\n",
       "\t<tr><td>1997         </td><td>Russia       </td><td>  NA         </td></tr>\n",
       "\t<tr><td>1993         </td><td>China        </td><td>2342         </td></tr>\n",
       "</tbody>\n",
       "</table>\n"
      ],
      "text/latex": [
       "\\begin{tabular}{r|lll}\n",
       " Year & Country & Value\\\\\n",
       "\\hline\n",
       "\t 1992          & China         & 1146         \\\\\n",
       "\t 1993          & China         & 2342         \\\\\n",
       "\t 1994          & United States &  678         \\\\\n",
       "\t 1995          & Russia        &  212         \\\\\n",
       "\t 1996          & Russia        &   20         \\\\\n",
       "\t 1993          & China         & 2342         \\\\\n",
       "\t 1997          & Russia        &   NA         \\\\\n",
       "\t 1993          & China         & 2342         \\\\\n",
       "\\end{tabular}\n"
      ],
      "text/markdown": [
       "\n",
       "| Year | Country | Value |\n",
       "|---|---|---|\n",
       "| 1992          | China         | 1146          |\n",
       "| 1993          | China         | 2342          |\n",
       "| 1994          | United States |  678          |\n",
       "| 1995          | Russia        |  212          |\n",
       "| 1996          | Russia        |   20          |\n",
       "| 1993          | China         | 2342          |\n",
       "| 1997          | Russia        |   NA          |\n",
       "| 1993          | China         | 2342          |\n",
       "\n"
      ],
      "text/plain": [
       "  Year Country       Value\n",
       "1 1992 China         1146 \n",
       "2 1993 China         2342 \n",
       "3 1994 United States  678 \n",
       "4 1995 Russia         212 \n",
       "5 1996 Russia          20 \n",
       "6 1993 China         2342 \n",
       "7 1997 Russia          NA \n",
       "8 1993 China         2342 "
      ]
     },
     "metadata": {},
     "output_type": "display_data"
    }
   ],
   "source": [
    "# ?read_excel\n",
    "dt.test<-as.data.table(read_excel(\"TestDT.xlsx\",sheet=NULL,n_max=Inf,col_names=TRUE,skip=0))\n",
    "# default values: sheet=NULL,n_max=Inf,col_names=TRUE,skip=0\n",
    "dt.test"
   ]
  },
  {
   "cell_type": "code",
   "execution_count": 11,
   "metadata": {},
   "outputs": [
    {
     "data": {
      "text/html": [
       "8"
      ],
      "text/latex": [
       "8"
      ],
      "text/markdown": [
       "8"
      ],
      "text/plain": [
       "[1] 8"
      ]
     },
     "metadata": {},
     "output_type": "display_data"
    },
    {
     "data": {
      "text/html": [
       "<table>\n",
       "<thead><tr><th scope=col>Year</th><th scope=col>Country</th><th scope=col>Value</th></tr></thead>\n",
       "<tbody>\n",
       "\t<tr><td>1992 </td><td>China</td><td>1146 </td></tr>\n",
       "\t<tr><td>1993 </td><td>China</td><td>2342 </td></tr>\n",
       "</tbody>\n",
       "</table>\n"
      ],
      "text/latex": [
       "\\begin{tabular}{r|lll}\n",
       " Year & Country & Value\\\\\n",
       "\\hline\n",
       "\t 1992  & China & 1146 \\\\\n",
       "\t 1993  & China & 2342 \\\\\n",
       "\\end{tabular}\n"
      ],
      "text/markdown": [
       "\n",
       "| Year | Country | Value |\n",
       "|---|---|---|\n",
       "| 1992  | China | 1146  |\n",
       "| 1993  | China | 2342  |\n",
       "\n"
      ],
      "text/plain": [
       "  Year Country Value\n",
       "1 1992 China   1146 \n",
       "2 1993 China   2342 "
      ]
     },
     "metadata": {},
     "output_type": "display_data"
    },
    {
     "data": {
      "text/html": [
       "<ol class=list-inline>\n",
       "\t<li>'Year'</li>\n",
       "\t<li>'Country'</li>\n",
       "\t<li>'Value'</li>\n",
       "</ol>\n"
      ],
      "text/latex": [
       "\\begin{enumerate*}\n",
       "\\item 'Year'\n",
       "\\item 'Country'\n",
       "\\item 'Value'\n",
       "\\end{enumerate*}\n"
      ],
      "text/markdown": [
       "1. 'Year'\n",
       "2. 'Country'\n",
       "3. 'Value'\n",
       "\n",
       "\n"
      ],
      "text/plain": [
       "[1] \"Year\"    \"Country\" \"Value\"  "
      ]
     },
     "metadata": {},
     "output_type": "display_data"
    }
   ],
   "source": [
    "nrow(dt.test) # try ncol() to get the number of columns\n",
    "head(dt.test,2)\n",
    "var.name<-names(dt.test)\n",
    "var.name"
   ]
  },
  {
   "cell_type": "code",
   "execution_count": 12,
   "metadata": {},
   "outputs": [
    {
     "data": {
      "text/plain": [
       "\n",
       "        China        Russia United States \n",
       "            4             3             1 "
      ]
     },
     "metadata": {},
     "output_type": "display_data"
    },
    {
     "data": {
      "text/plain": [
       "      Year        Country              Value     \n",
       " Min.   :1992   Length:8           Min.   :  20  \n",
       " 1st Qu.:1993   Class :character   1st Qu.: 445  \n",
       " Median :1994   Mode  :character   Median :1146  \n",
       " Mean   :1994                      Mean   :1297  \n",
       " 3rd Qu.:1995                      3rd Qu.:2342  \n",
       " Max.   :1997                      Max.   :2342  \n",
       "                                   NA's   :1     "
      ]
     },
     "metadata": {},
     "output_type": "display_data"
    },
    {
     "data": {
      "text/plain": [
       "   Min. 1st Qu.  Median    Mean 3rd Qu.    Max.    NA's \n",
       "     20     445    1146    1297    2342    2342       1 "
      ]
     },
     "metadata": {},
     "output_type": "display_data"
    },
    {
     "data": {
      "text/html": [
       "1040.03122663743"
      ],
      "text/latex": [
       "1040.03122663743"
      ],
      "text/markdown": [
       "1040.03122663743"
      ],
      "text/plain": [
       "[1] 1040.031"
      ]
     },
     "metadata": {},
     "output_type": "display_data"
    }
   ],
   "source": [
    "table(dt.test$Country)       ## what will happen if you do table(dt.test)\n",
    "summary(dt.test)\n",
    "summary(dt.test$Value)\n",
    "sd(dt.test$Value,na.rm=T)"
   ]
  },
  {
   "cell_type": "code",
   "execution_count": 13,
   "metadata": {},
   "outputs": [
    {
     "data": {
      "text/html": [
       "<table>\n",
       "<thead><tr><th scope=col>Year</th><th scope=col>Country</th><th scope=col>Value</th></tr></thead>\n",
       "<tbody>\n",
       "\t<tr><td>1992 </td><td>China</td><td>1146 </td></tr>\n",
       "</tbody>\n",
       "</table>\n"
      ],
      "text/latex": [
       "\\begin{tabular}{r|lll}\n",
       " Year & Country & Value\\\\\n",
       "\\hline\n",
       "\t 1992  & China & 1146 \\\\\n",
       "\\end{tabular}\n"
      ],
      "text/markdown": [
       "\n",
       "| Year | Country | Value |\n",
       "|---|---|---|\n",
       "| 1992  | China | 1146  |\n",
       "\n"
      ],
      "text/plain": [
       "  Year Country Value\n",
       "1 1992 China   1146 "
      ]
     },
     "metadata": {},
     "output_type": "display_data"
    },
    {
     "data": {
      "text/html": [
       "<table>\n",
       "<thead><tr><th scope=col>Country</th></tr></thead>\n",
       "<tbody>\n",
       "\t<tr><td>United States</td></tr>\n",
       "</tbody>\n",
       "</table>\n"
      ],
      "text/latex": [
       "\\begin{tabular}{r|l}\n",
       " Country\\\\\n",
       "\\hline\n",
       "\t United States\\\\\n",
       "\\end{tabular}\n"
      ],
      "text/markdown": [
       "\n",
       "| Country |\n",
       "|---|\n",
       "| United States |\n",
       "\n"
      ],
      "text/plain": [
       "  Country      \n",
       "1 United States"
      ]
     },
     "metadata": {},
     "output_type": "display_data"
    }
   ],
   "source": [
    "dt.test[1,]  # try dt.test[,1]  dt.test[1] and dt.test[[1]]; Is there any difference? \n",
    "dt.test[3,2] ## indices can be chained together, try dt.test[3,][,2]"
   ]
  },
  {
   "cell_type": "code",
   "execution_count": 14,
   "metadata": {},
   "outputs": [
    {
     "data": {
      "text/html": [
       "<table>\n",
       "<thead><tr><th scope=col>Country</th><th scope=col>Value</th></tr></thead>\n",
       "<tbody>\n",
       "\t<tr><td>China        </td><td>1146         </td></tr>\n",
       "\t<tr><td>China        </td><td>2342         </td></tr>\n",
       "\t<tr><td>United States</td><td> 678         </td></tr>\n",
       "\t<tr><td>Russia       </td><td> 212         </td></tr>\n",
       "\t<tr><td>Russia       </td><td>  20         </td></tr>\n",
       "\t<tr><td>China        </td><td>2342         </td></tr>\n",
       "\t<tr><td>Russia       </td><td>  NA         </td></tr>\n",
       "\t<tr><td>China        </td><td>2342         </td></tr>\n",
       "</tbody>\n",
       "</table>\n"
      ],
      "text/latex": [
       "\\begin{tabular}{r|ll}\n",
       " Country & Value\\\\\n",
       "\\hline\n",
       "\t China         & 1146         \\\\\n",
       "\t China         & 2342         \\\\\n",
       "\t United States &  678         \\\\\n",
       "\t Russia        &  212         \\\\\n",
       "\t Russia        &   20         \\\\\n",
       "\t China         & 2342         \\\\\n",
       "\t Russia        &   NA         \\\\\n",
       "\t China         & 2342         \\\\\n",
       "\\end{tabular}\n"
      ],
      "text/markdown": [
       "\n",
       "| Country | Value |\n",
       "|---|---|\n",
       "| China         | 1146          |\n",
       "| China         | 2342          |\n",
       "| United States |  678          |\n",
       "| Russia        |  212          |\n",
       "| Russia        |   20          |\n",
       "| China         | 2342          |\n",
       "| Russia        |   NA          |\n",
       "| China         | 2342          |\n",
       "\n"
      ],
      "text/plain": [
       "  Country       Value\n",
       "1 China         1146 \n",
       "2 China         2342 \n",
       "3 United States  678 \n",
       "4 Russia         212 \n",
       "5 Russia          20 \n",
       "6 China         2342 \n",
       "7 Russia          NA \n",
       "8 China         2342 "
      ]
     },
     "metadata": {},
     "output_type": "display_data"
    }
   ],
   "source": [
    "dt.test[,c(\"Country\",\"Value\"),with=F]\n",
    "## what if we switch the names? dt.test[,c(\"Value\",\"Country\"),with=F]\n",
    "## Also try dt.test[,names(dt.test)[1:2],with=F]"
   ]
  },
  {
   "cell_type": "code",
   "execution_count": 15,
   "metadata": {
    "scrolled": true
   },
   "outputs": [
    {
     "data": {
      "text/html": [
       "<table>\n",
       "<thead><tr><th scope=col>Year</th><th scope=col>Country</th></tr></thead>\n",
       "<tbody>\n",
       "\t<tr><td>1992         </td><td>China        </td></tr>\n",
       "\t<tr><td>1993         </td><td>China        </td></tr>\n",
       "\t<tr><td>1994         </td><td>United States</td></tr>\n",
       "\t<tr><td>1995         </td><td>Russia       </td></tr>\n",
       "\t<tr><td>1996         </td><td>Russia       </td></tr>\n",
       "\t<tr><td>1993         </td><td>China        </td></tr>\n",
       "\t<tr><td>1997         </td><td>Russia       </td></tr>\n",
       "\t<tr><td>1993         </td><td>China        </td></tr>\n",
       "</tbody>\n",
       "</table>\n"
      ],
      "text/latex": [
       "\\begin{tabular}{r|ll}\n",
       " Year & Country\\\\\n",
       "\\hline\n",
       "\t 1992          & China        \\\\\n",
       "\t 1993          & China        \\\\\n",
       "\t 1994          & United States\\\\\n",
       "\t 1995          & Russia       \\\\\n",
       "\t 1996          & Russia       \\\\\n",
       "\t 1993          & China        \\\\\n",
       "\t 1997          & Russia       \\\\\n",
       "\t 1993          & China        \\\\\n",
       "\\end{tabular}\n"
      ],
      "text/markdown": [
       "\n",
       "| Year | Country |\n",
       "|---|---|\n",
       "| 1992          | China         |\n",
       "| 1993          | China         |\n",
       "| 1994          | United States |\n",
       "| 1995          | Russia        |\n",
       "| 1996          | Russia        |\n",
       "| 1993          | China         |\n",
       "| 1997          | Russia        |\n",
       "| 1993          | China         |\n",
       "\n"
      ],
      "text/plain": [
       "  Year Country      \n",
       "1 1992 China        \n",
       "2 1993 China        \n",
       "3 1994 United States\n",
       "4 1995 Russia       \n",
       "5 1996 Russia       \n",
       "6 1993 China        \n",
       "7 1997 Russia       \n",
       "8 1993 China        "
      ]
     },
     "metadata": {},
     "output_type": "display_data"
    }
   ],
   "source": [
    "dt.test1<-data.table(dt.test)   # what would happen if you use normal assign dt.test1<-dt.test\n",
    "dt.test1[,Value:=NULL]\n",
    "dt.test1\n",
    "# data.table does not support deleting rows by reference, so just use the index subset method introduced above"
   ]
  },
  {
   "cell_type": "markdown",
   "metadata": {},
   "source": [
    "# Data Manipulation \n",
    "- find and replace \n",
    "- missing values\n",
    "- identify duplicates\n",
    "#### Comparison Operations >, <, ==, >=, <=, !=\n",
    "#### Logical Operations  &, |    "
   ]
  },
  {
   "cell_type": "code",
   "execution_count": 16,
   "metadata": {},
   "outputs": [
    {
     "data": {
      "text/html": [
       "<table>\n",
       "<thead><tr><th scope=col>Year</th><th scope=col>Country</th><th scope=col>Value</th></tr></thead>\n",
       "<tbody>\n",
       "\t<tr><td>1997  </td><td>Russia</td><td>NA    </td></tr>\n",
       "</tbody>\n",
       "</table>\n"
      ],
      "text/latex": [
       "\\begin{tabular}{r|lll}\n",
       " Year & Country & Value\\\\\n",
       "\\hline\n",
       "\t 1997   & Russia & NA    \\\\\n",
       "\\end{tabular}\n"
      ],
      "text/markdown": [
       "\n",
       "| Year | Country | Value |\n",
       "|---|---|---|\n",
       "| 1997   | Russia | NA     |\n",
       "\n"
      ],
      "text/plain": [
       "  Year Country Value\n",
       "1 1997 Russia  NA   "
      ]
     },
     "metadata": {},
     "output_type": "display_data"
    },
    {
     "data": {
      "text/html": [
       "<table>\n",
       "<thead><tr><th scope=col>Year</th><th scope=col>Country</th><th scope=col>Value</th></tr></thead>\n",
       "<tbody>\n",
       "\t<tr><td>1993 </td><td>China</td><td>2342 </td></tr>\n",
       "\t<tr><td>1993 </td><td>China</td><td>2342 </td></tr>\n",
       "\t<tr><td>1993 </td><td>China</td><td>2342 </td></tr>\n",
       "</tbody>\n",
       "</table>\n"
      ],
      "text/latex": [
       "\\begin{tabular}{r|lll}\n",
       " Year & Country & Value\\\\\n",
       "\\hline\n",
       "\t 1993  & China & 2342 \\\\\n",
       "\t 1993  & China & 2342 \\\\\n",
       "\t 1993  & China & 2342 \\\\\n",
       "\\end{tabular}\n"
      ],
      "text/markdown": [
       "\n",
       "| Year | Country | Value |\n",
       "|---|---|---|\n",
       "| 1993  | China | 2342  |\n",
       "| 1993  | China | 2342  |\n",
       "| 1993  | China | 2342  |\n",
       "\n"
      ],
      "text/plain": [
       "  Year Country Value\n",
       "1 1993 China   2342 \n",
       "2 1993 China   2342 \n",
       "3 1993 China   2342 "
      ]
     },
     "metadata": {},
     "output_type": "display_data"
    }
   ],
   "source": [
    "dt.test[Year==1997]  # what happens if no matches found? try dt.test[Year==2000]\n",
    "dt.test[Year>=1993 & Value>1000] # or dt.test[Year>=1993][Value>1000]?"
   ]
  },
  {
   "cell_type": "code",
   "execution_count": 17,
   "metadata": {},
   "outputs": [
    {
     "data": {
      "text/html": [
       "<table>\n",
       "<thead><tr><th scope=col>Year</th><th scope=col>Country</th><th scope=col>Value</th></tr></thead>\n",
       "<tbody>\n",
       "\t<tr><td>1992         </td><td>China        </td><td>33333        </td></tr>\n",
       "\t<tr><td>1993         </td><td>China        </td><td>33333        </td></tr>\n",
       "\t<tr><td>1994         </td><td>United States</td><td>  678        </td></tr>\n",
       "\t<tr><td>1995         </td><td>Russia       </td><td>  212        </td></tr>\n",
       "\t<tr><td>1996         </td><td>Russia       </td><td>   20        </td></tr>\n",
       "\t<tr><td>1993         </td><td>China        </td><td>33333        </td></tr>\n",
       "\t<tr><td>1997         </td><td>Russia       </td><td>   NA        </td></tr>\n",
       "\t<tr><td>1993         </td><td>China        </td><td>33333        </td></tr>\n",
       "</tbody>\n",
       "</table>\n"
      ],
      "text/latex": [
       "\\begin{tabular}{r|lll}\n",
       " Year & Country & Value\\\\\n",
       "\\hline\n",
       "\t 1992          & China         & 33333        \\\\\n",
       "\t 1993          & China         & 33333        \\\\\n",
       "\t 1994          & United States &   678        \\\\\n",
       "\t 1995          & Russia        &   212        \\\\\n",
       "\t 1996          & Russia        &    20        \\\\\n",
       "\t 1993          & China         & 33333        \\\\\n",
       "\t 1997          & Russia        &    NA        \\\\\n",
       "\t 1993          & China         & 33333        \\\\\n",
       "\\end{tabular}\n"
      ],
      "text/markdown": [
       "\n",
       "| Year | Country | Value |\n",
       "|---|---|---|\n",
       "| 1992          | China         | 33333         |\n",
       "| 1993          | China         | 33333         |\n",
       "| 1994          | United States |   678         |\n",
       "| 1995          | Russia        |   212         |\n",
       "| 1996          | Russia        |    20         |\n",
       "| 1993          | China         | 33333         |\n",
       "| 1997          | Russia        |    NA         |\n",
       "| 1993          | China         | 33333         |\n",
       "\n"
      ],
      "text/plain": [
       "  Year Country       Value\n",
       "1 1992 China         33333\n",
       "2 1993 China         33333\n",
       "3 1994 United States   678\n",
       "4 1995 Russia          212\n",
       "5 1996 Russia           20\n",
       "6 1993 China         33333\n",
       "7 1997 Russia           NA\n",
       "8 1993 China         33333"
      ]
     },
     "metadata": {},
     "output_type": "display_data"
    }
   ],
   "source": [
    "dt.test2<-data.table(dt.test)\n",
    "dt.test2[Value >= 1000, Value := 33333]\n",
    "dt.test2"
   ]
  },
  {
   "cell_type": "code",
   "execution_count": 18,
   "metadata": {},
   "outputs": [
    {
     "data": {
      "text/html": [
       "<table>\n",
       "<thead><tr><th scope=col>Year</th><th scope=col>Country</th><th scope=col>Value</th></tr></thead>\n",
       "<tbody>\n",
       "\t<tr><td>1992         </td><td>China        </td><td>33333        </td></tr>\n",
       "\t<tr><td>1993         </td><td>China        </td><td>33333        </td></tr>\n",
       "\t<tr><td>1994         </td><td>United States</td><td>  678        </td></tr>\n",
       "\t<tr><td>1995         </td><td>Russia       </td><td>  212        </td></tr>\n",
       "\t<tr><td>1996         </td><td>Russia       </td><td>   20        </td></tr>\n",
       "\t<tr><td>1993         </td><td>China        </td><td>33333        </td></tr>\n",
       "\t<tr><td>1997         </td><td>Russia       </td><td>   NA        </td></tr>\n",
       "\t<tr><td>1993         </td><td>China        </td><td>33333        </td></tr>\n",
       "</tbody>\n",
       "</table>\n"
      ],
      "text/latex": [
       "\\begin{tabular}{r|lll}\n",
       " Year & Country & Value\\\\\n",
       "\\hline\n",
       "\t 1992          & China         & 33333        \\\\\n",
       "\t 1993          & China         & 33333        \\\\\n",
       "\t 1994          & United States &   678        \\\\\n",
       "\t 1995          & Russia        &   212        \\\\\n",
       "\t 1996          & Russia        &    20        \\\\\n",
       "\t 1993          & China         & 33333        \\\\\n",
       "\t 1997          & Russia        &    NA        \\\\\n",
       "\t 1993          & China         & 33333        \\\\\n",
       "\\end{tabular}\n"
      ],
      "text/markdown": [
       "\n",
       "| Year | Country | Value |\n",
       "|---|---|---|\n",
       "| 1992          | China         | 33333         |\n",
       "| 1993          | China         | 33333         |\n",
       "| 1994          | United States |   678         |\n",
       "| 1995          | Russia        |   212         |\n",
       "| 1996          | Russia        |    20         |\n",
       "| 1993          | China         | 33333         |\n",
       "| 1997          | Russia        |    NA         |\n",
       "| 1993          | China         | 33333         |\n",
       "\n"
      ],
      "text/plain": [
       "  Year Country       Value\n",
       "1 1992 China         33333\n",
       "2 1993 China         33333\n",
       "3 1994 United States   678\n",
       "4 1995 Russia          212\n",
       "5 1996 Russia           20\n",
       "6 1993 China         33333\n",
       "7 1997 Russia           NA\n",
       "8 1993 China         33333"
      ]
     },
     "metadata": {},
     "output_type": "display_data"
    }
   ],
   "source": [
    "dt.test3<-data.table(dt.test)\n",
    "dt.test3[which(dt.test3$Value>=1000),3]<-33333  # run which(dt.test3$Value>=1000) and see the result\n",
    "dt.test3"
   ]
  },
  {
   "cell_type": "code",
   "execution_count": 19,
   "metadata": {},
   "outputs": [
    {
     "data": {
      "text/html": [
       "<table>\n",
       "<thead><tr><th scope=col>Year</th><th scope=col>Country</th><th scope=col>Value</th></tr></thead>\n",
       "<tbody>\n",
       "\t<tr><td>FALSE</td><td>FALSE</td><td>FALSE</td></tr>\n",
       "\t<tr><td>FALSE</td><td>FALSE</td><td>FALSE</td></tr>\n",
       "\t<tr><td>FALSE</td><td>FALSE</td><td>FALSE</td></tr>\n",
       "\t<tr><td>FALSE</td><td>FALSE</td><td>FALSE</td></tr>\n",
       "\t<tr><td>FALSE</td><td>FALSE</td><td>FALSE</td></tr>\n",
       "\t<tr><td>FALSE</td><td>FALSE</td><td>FALSE</td></tr>\n",
       "\t<tr><td>FALSE</td><td>FALSE</td><td> TRUE</td></tr>\n",
       "\t<tr><td>FALSE</td><td>FALSE</td><td>FALSE</td></tr>\n",
       "</tbody>\n",
       "</table>\n"
      ],
      "text/latex": [
       "\\begin{tabular}{lll}\n",
       " Year & Country & Value\\\\\n",
       "\\hline\n",
       "\t FALSE & FALSE & FALSE\\\\\n",
       "\t FALSE & FALSE & FALSE\\\\\n",
       "\t FALSE & FALSE & FALSE\\\\\n",
       "\t FALSE & FALSE & FALSE\\\\\n",
       "\t FALSE & FALSE & FALSE\\\\\n",
       "\t FALSE & FALSE & FALSE\\\\\n",
       "\t FALSE & FALSE &  TRUE\\\\\n",
       "\t FALSE & FALSE & FALSE\\\\\n",
       "\\end{tabular}\n"
      ],
      "text/markdown": [
       "\n",
       "| Year | Country | Value |\n",
       "|---|---|---|\n",
       "| FALSE | FALSE | FALSE |\n",
       "| FALSE | FALSE | FALSE |\n",
       "| FALSE | FALSE | FALSE |\n",
       "| FALSE | FALSE | FALSE |\n",
       "| FALSE | FALSE | FALSE |\n",
       "| FALSE | FALSE | FALSE |\n",
       "| FALSE | FALSE |  TRUE |\n",
       "| FALSE | FALSE | FALSE |\n",
       "\n"
      ],
      "text/plain": [
       "     Year  Country Value\n",
       "[1,] FALSE FALSE   FALSE\n",
       "[2,] FALSE FALSE   FALSE\n",
       "[3,] FALSE FALSE   FALSE\n",
       "[4,] FALSE FALSE   FALSE\n",
       "[5,] FALSE FALSE   FALSE\n",
       "[6,] FALSE FALSE   FALSE\n",
       "[7,] FALSE FALSE    TRUE\n",
       "[8,] FALSE FALSE   FALSE"
      ]
     },
     "metadata": {},
     "output_type": "display_data"
    },
    {
     "data": {
      "text/html": [
       "<table>\n",
       "<thead><tr><th scope=col>Year</th><th scope=col>Country</th><th scope=col>Value</th></tr></thead>\n",
       "<tbody>\n",
       "\t<tr><td>1997  </td><td>Russia</td><td>NA    </td></tr>\n",
       "</tbody>\n",
       "</table>\n"
      ],
      "text/latex": [
       "\\begin{tabular}{r|lll}\n",
       " Year & Country & Value\\\\\n",
       "\\hline\n",
       "\t 1997   & Russia & NA    \\\\\n",
       "\\end{tabular}\n"
      ],
      "text/markdown": [
       "\n",
       "| Year | Country | Value |\n",
       "|---|---|---|\n",
       "| 1997   | Russia | NA     |\n",
       "\n"
      ],
      "text/plain": [
       "  Year Country Value\n",
       "1 1997 Russia  NA   "
      ]
     },
     "metadata": {},
     "output_type": "display_data"
    }
   ],
   "source": [
    "dt.test4<-data.table(dt.test)\n",
    "is.na(dt.test4)\n",
    "# see ?na.omit for optional arguments\n",
    "# default for cols are all the columns, what if we change it to c(\"Year\",\"Country\")\n",
    "# invert=FALSE is the default\n",
    "na.omit(dt.test4,invert=T) "
   ]
  },
  {
   "cell_type": "code",
   "execution_count": 20,
   "metadata": {},
   "outputs": [
    {
     "data": {
      "text/html": [
       "<table>\n",
       "<thead><tr><th scope=col>Year</th><th scope=col>Country</th><th scope=col>Value</th></tr></thead>\n",
       "<tbody>\n",
       "\t<tr><td>1992         </td><td>China        </td><td>1146         </td></tr>\n",
       "\t<tr><td>1993         </td><td>China        </td><td>2342         </td></tr>\n",
       "\t<tr><td>1994         </td><td>United States</td><td> 678         </td></tr>\n",
       "\t<tr><td>1995         </td><td>Russia       </td><td> 212         </td></tr>\n",
       "\t<tr><td>1996         </td><td>Russia       </td><td>  20         </td></tr>\n",
       "\t<tr><td>1993         </td><td>China        </td><td>2342         </td></tr>\n",
       "\t<tr><td>1997         </td><td>Russia       </td><td>   0         </td></tr>\n",
       "\t<tr><td>1993         </td><td>China        </td><td>2342         </td></tr>\n",
       "</tbody>\n",
       "</table>\n"
      ],
      "text/latex": [
       "\\begin{tabular}{r|lll}\n",
       " Year & Country & Value\\\\\n",
       "\\hline\n",
       "\t 1992          & China         & 1146         \\\\\n",
       "\t 1993          & China         & 2342         \\\\\n",
       "\t 1994          & United States &  678         \\\\\n",
       "\t 1995          & Russia        &  212         \\\\\n",
       "\t 1996          & Russia        &   20         \\\\\n",
       "\t 1993          & China         & 2342         \\\\\n",
       "\t 1997          & Russia        &    0         \\\\\n",
       "\t 1993          & China         & 2342         \\\\\n",
       "\\end{tabular}\n"
      ],
      "text/markdown": [
       "\n",
       "| Year | Country | Value |\n",
       "|---|---|---|\n",
       "| 1992          | China         | 1146          |\n",
       "| 1993          | China         | 2342          |\n",
       "| 1994          | United States |  678          |\n",
       "| 1995          | Russia        |  212          |\n",
       "| 1996          | Russia        |   20          |\n",
       "| 1993          | China         | 2342          |\n",
       "| 1997          | Russia        |    0          |\n",
       "| 1993          | China         | 2342          |\n",
       "\n"
      ],
      "text/plain": [
       "  Year Country       Value\n",
       "1 1992 China         1146 \n",
       "2 1993 China         2342 \n",
       "3 1994 United States  678 \n",
       "4 1995 Russia         212 \n",
       "5 1996 Russia          20 \n",
       "6 1993 China         2342 \n",
       "7 1997 Russia           0 \n",
       "8 1993 China         2342 "
      ]
     },
     "metadata": {},
     "output_type": "display_data"
    }
   ],
   "source": [
    "dt.test5<-data.table(dt.test)\n",
    "dt.test5[is.na(Value) == T, Value := 0]     \n",
    "dt.test5"
   ]
  },
  {
   "cell_type": "code",
   "execution_count": 21,
   "metadata": {},
   "outputs": [
    {
     "data": {
      "text/html": [
       "<table>\n",
       "<thead><tr><th scope=col>Year</th><th scope=col>Country</th><th scope=col>Value</th></tr></thead>\n",
       "<tbody>\n",
       "\t<tr><td>1992         </td><td>China        </td><td>1146         </td></tr>\n",
       "\t<tr><td>1993         </td><td>China        </td><td>2342         </td></tr>\n",
       "\t<tr><td>1994         </td><td>United States</td><td> 678         </td></tr>\n",
       "\t<tr><td>1995         </td><td>Russia       </td><td> 212         </td></tr>\n",
       "\t<tr><td>1996         </td><td>Russia       </td><td>  20         </td></tr>\n",
       "\t<tr><td>1997         </td><td>Russia       </td><td>  NA         </td></tr>\n",
       "</tbody>\n",
       "</table>\n"
      ],
      "text/latex": [
       "\\begin{tabular}{r|lll}\n",
       " Year & Country & Value\\\\\n",
       "\\hline\n",
       "\t 1992          & China         & 1146         \\\\\n",
       "\t 1993          & China         & 2342         \\\\\n",
       "\t 1994          & United States &  678         \\\\\n",
       "\t 1995          & Russia        &  212         \\\\\n",
       "\t 1996          & Russia        &   20         \\\\\n",
       "\t 1997          & Russia        &   NA         \\\\\n",
       "\\end{tabular}\n"
      ],
      "text/markdown": [
       "\n",
       "| Year | Country | Value |\n",
       "|---|---|---|\n",
       "| 1992          | China         | 1146          |\n",
       "| 1993          | China         | 2342          |\n",
       "| 1994          | United States |  678          |\n",
       "| 1995          | Russia        |  212          |\n",
       "| 1996          | Russia        |   20          |\n",
       "| 1997          | Russia        |   NA          |\n",
       "\n"
      ],
      "text/plain": [
       "  Year Country       Value\n",
       "1 1992 China         1146 \n",
       "2 1993 China         2342 \n",
       "3 1994 United States  678 \n",
       "4 1995 Russia         212 \n",
       "5 1996 Russia          20 \n",
       "6 1997 Russia          NA "
      ]
     },
     "metadata": {},
     "output_type": "display_data"
    }
   ],
   "source": [
    "# see ?unique\n",
    "unique(dt.test,by=c(1,2))"
   ]
  },
  {
   "cell_type": "code",
   "execution_count": 22,
   "metadata": {},
   "outputs": [
    {
     "data": {
      "text/html": [
       "<table>\n",
       "<thead><tr><th scope=col>Year</th><th scope=col>Country</th><th scope=col>Value</th></tr></thead>\n",
       "<tbody>\n",
       "\t<tr><td>1992         </td><td>China        </td><td>1146         </td></tr>\n",
       "\t<tr><td>1993         </td><td>China        </td><td>2342         </td></tr>\n",
       "\t<tr><td>1994         </td><td>United States</td><td> 678         </td></tr>\n",
       "\t<tr><td>1995         </td><td>Russia       </td><td> 212         </td></tr>\n",
       "\t<tr><td>1996         </td><td>Russia       </td><td>  20         </td></tr>\n",
       "\t<tr><td>1997         </td><td>Russia       </td><td>  NA         </td></tr>\n",
       "</tbody>\n",
       "</table>\n"
      ],
      "text/latex": [
       "\\begin{tabular}{r|lll}\n",
       " Year & Country & Value\\\\\n",
       "\\hline\n",
       "\t 1992          & China         & 1146         \\\\\n",
       "\t 1993          & China         & 2342         \\\\\n",
       "\t 1994          & United States &  678         \\\\\n",
       "\t 1995          & Russia        &  212         \\\\\n",
       "\t 1996          & Russia        &   20         \\\\\n",
       "\t 1997          & Russia        &   NA         \\\\\n",
       "\\end{tabular}\n"
      ],
      "text/markdown": [
       "\n",
       "| Year | Country | Value |\n",
       "|---|---|---|\n",
       "| 1992          | China         | 1146          |\n",
       "| 1993          | China         | 2342          |\n",
       "| 1994          | United States |  678          |\n",
       "| 1995          | Russia        |  212          |\n",
       "| 1996          | Russia        |   20          |\n",
       "| 1997          | Russia        |   NA          |\n",
       "\n"
      ],
      "text/plain": [
       "  Year Country       Value\n",
       "1 1992 China         1146 \n",
       "2 1993 China         2342 \n",
       "3 1994 United States  678 \n",
       "4 1995 Russia         212 \n",
       "5 1996 Russia          20 \n",
       "6 1997 Russia          NA "
      ]
     },
     "metadata": {},
     "output_type": "display_data"
    }
   ],
   "source": [
    "dt.test[which(duplicated(dt.test)==F),]"
   ]
  },
  {
   "cell_type": "code",
   "execution_count": 23,
   "metadata": {},
   "outputs": [
    {
     "data": {
      "text/html": [
       "<table>\n",
       "<thead><tr><th scope=col>Year</th><th scope=col>Country</th><th scope=col>Value</th></tr></thead>\n",
       "<tbody>\n",
       "\t<tr><td>1992         </td><td>China        </td><td>1146         </td></tr>\n",
       "\t<tr><td>1993         </td><td>China        </td><td>2342         </td></tr>\n",
       "\t<tr><td>1994         </td><td>United States</td><td> 678         </td></tr>\n",
       "\t<tr><td>1995         </td><td>Russia       </td><td> 212         </td></tr>\n",
       "\t<tr><td>1996         </td><td>Russia       </td><td>  20         </td></tr>\n",
       "\t<tr><td>1993         </td><td>China        </td><td>2342         </td></tr>\n",
       "\t<tr><td>1997         </td><td>Russia       </td><td>  NA         </td></tr>\n",
       "\t<tr><td>1993         </td><td>China        </td><td>2342         </td></tr>\n",
       "</tbody>\n",
       "</table>\n"
      ],
      "text/latex": [
       "\\begin{tabular}{r|lll}\n",
       " Year & Country & Value\\\\\n",
       "\\hline\n",
       "\t 1992          & China         & 1146         \\\\\n",
       "\t 1993          & China         & 2342         \\\\\n",
       "\t 1994          & United States &  678         \\\\\n",
       "\t 1995          & Russia        &  212         \\\\\n",
       "\t 1996          & Russia        &   20         \\\\\n",
       "\t 1993          & China         & 2342         \\\\\n",
       "\t 1997          & Russia        &   NA         \\\\\n",
       "\t 1993          & China         & 2342         \\\\\n",
       "\\end{tabular}\n"
      ],
      "text/markdown": [
       "\n",
       "| Year | Country | Value |\n",
       "|---|---|---|\n",
       "| 1992          | China         | 1146          |\n",
       "| 1993          | China         | 2342          |\n",
       "| 1994          | United States |  678          |\n",
       "| 1995          | Russia        |  212          |\n",
       "| 1996          | Russia        |   20          |\n",
       "| 1993          | China         | 2342          |\n",
       "| 1997          | Russia        |   NA          |\n",
       "| 1993          | China         | 2342          |\n",
       "\n"
      ],
      "text/plain": [
       "  Year Country       Value\n",
       "1 1992 China         1146 \n",
       "2 1993 China         2342 \n",
       "3 1994 United States  678 \n",
       "4 1995 Russia         212 \n",
       "5 1996 Russia          20 \n",
       "6 1993 China         2342 \n",
       "7 1997 Russia          NA \n",
       "8 1993 China         2342 "
      ]
     },
     "metadata": {},
     "output_type": "display_data"
    },
    {
     "data": {
      "text/html": [
       "<ol class=list-inline>\n",
       "\t<li>FALSE</li>\n",
       "\t<li>FALSE</li>\n",
       "\t<li>FALSE</li>\n",
       "\t<li>FALSE</li>\n",
       "\t<li>FALSE</li>\n",
       "\t<li>TRUE</li>\n",
       "\t<li>FALSE</li>\n",
       "\t<li>TRUE</li>\n",
       "</ol>\n"
      ],
      "text/latex": [
       "\\begin{enumerate*}\n",
       "\\item FALSE\n",
       "\\item FALSE\n",
       "\\item FALSE\n",
       "\\item FALSE\n",
       "\\item FALSE\n",
       "\\item TRUE\n",
       "\\item FALSE\n",
       "\\item TRUE\n",
       "\\end{enumerate*}\n"
      ],
      "text/markdown": [
       "1. FALSE\n",
       "2. FALSE\n",
       "3. FALSE\n",
       "4. FALSE\n",
       "5. FALSE\n",
       "6. TRUE\n",
       "7. FALSE\n",
       "8. TRUE\n",
       "\n",
       "\n"
      ],
      "text/plain": [
       "[1] FALSE FALSE FALSE FALSE FALSE  TRUE FALSE  TRUE"
      ]
     },
     "metadata": {},
     "output_type": "display_data"
    },
    {
     "data": {
      "text/html": [
       "<ol class=list-inline>\n",
       "\t<li>6</li>\n",
       "\t<li>8</li>\n",
       "</ol>\n"
      ],
      "text/latex": [
       "\\begin{enumerate*}\n",
       "\\item 6\n",
       "\\item 8\n",
       "\\end{enumerate*}\n"
      ],
      "text/markdown": [
       "1. 6\n",
       "2. 8\n",
       "\n",
       "\n"
      ],
      "text/plain": [
       "[1] 6 8"
      ]
     },
     "metadata": {},
     "output_type": "display_data"
    },
    {
     "data": {
      "text/html": [
       "<ol class=list-inline>\n",
       "\t<li>FALSE</li>\n",
       "\t<li>TRUE</li>\n",
       "\t<li>FALSE</li>\n",
       "\t<li>FALSE</li>\n",
       "\t<li>FALSE</li>\n",
       "\t<li>TRUE</li>\n",
       "\t<li>FALSE</li>\n",
       "\t<li>FALSE</li>\n",
       "</ol>\n"
      ],
      "text/latex": [
       "\\begin{enumerate*}\n",
       "\\item FALSE\n",
       "\\item TRUE\n",
       "\\item FALSE\n",
       "\\item FALSE\n",
       "\\item FALSE\n",
       "\\item TRUE\n",
       "\\item FALSE\n",
       "\\item FALSE\n",
       "\\end{enumerate*}\n"
      ],
      "text/markdown": [
       "1. FALSE\n",
       "2. TRUE\n",
       "3. FALSE\n",
       "4. FALSE\n",
       "5. FALSE\n",
       "6. TRUE\n",
       "7. FALSE\n",
       "8. FALSE\n",
       "\n",
       "\n"
      ],
      "text/plain": [
       "[1] FALSE  TRUE FALSE FALSE FALSE  TRUE FALSE FALSE"
      ]
     },
     "metadata": {},
     "output_type": "display_data"
    },
    {
     "data": {
      "text/html": [
       "<ol class=list-inline>\n",
       "\t<li>2</li>\n",
       "\t<li>6</li>\n",
       "</ol>\n"
      ],
      "text/latex": [
       "\\begin{enumerate*}\n",
       "\\item 2\n",
       "\\item 6\n",
       "\\end{enumerate*}\n"
      ],
      "text/markdown": [
       "1. 2\n",
       "2. 6\n",
       "\n",
       "\n"
      ],
      "text/plain": [
       "[1] 2 6"
      ]
     },
     "metadata": {},
     "output_type": "display_data"
    },
    {
     "data": {
      "text/html": [
       "<table>\n",
       "<thead><tr><th scope=col>Year</th><th scope=col>Country</th><th scope=col>Value</th></tr></thead>\n",
       "<tbody>\n",
       "\t<tr><td>1993 </td><td>China</td><td>2342 </td></tr>\n",
       "\t<tr><td>1993 </td><td>China</td><td>2342 </td></tr>\n",
       "\t<tr><td>1993 </td><td>China</td><td>2342 </td></tr>\n",
       "\t<tr><td>1993 </td><td>China</td><td>2342 </td></tr>\n",
       "</tbody>\n",
       "</table>\n"
      ],
      "text/latex": [
       "\\begin{tabular}{r|lll}\n",
       " Year & Country & Value\\\\\n",
       "\\hline\n",
       "\t 1993  & China & 2342 \\\\\n",
       "\t 1993  & China & 2342 \\\\\n",
       "\t 1993  & China & 2342 \\\\\n",
       "\t 1993  & China & 2342 \\\\\n",
       "\\end{tabular}\n"
      ],
      "text/markdown": [
       "\n",
       "| Year | Country | Value |\n",
       "|---|---|---|\n",
       "| 1993  | China | 2342  |\n",
       "| 1993  | China | 2342  |\n",
       "| 1993  | China | 2342  |\n",
       "| 1993  | China | 2342  |\n",
       "\n"
      ],
      "text/plain": [
       "  Year Country Value\n",
       "1 1993 China   2342 \n",
       "2 1993 China   2342 \n",
       "3 1993 China   2342 \n",
       "4 1993 China   2342 "
      ]
     },
     "metadata": {},
     "output_type": "display_data"
    }
   ],
   "source": [
    "dt.test\n",
    "duplicated(dt.test)\n",
    "which(duplicated(dt.test)==T)\n",
    "duplicated(dt.test,fromLast=T)\n",
    "which(duplicated(dt.test,fromLast=T)==T)\n",
    "dup<-sort(c(which(duplicated(dt.test)==T),which(duplicated(dt.test,fromLast=T)==T)))\n",
    "dt.test[dup,]"
   ]
  },
  {
   "cell_type": "code",
   "execution_count": 24,
   "metadata": {},
   "outputs": [
    {
     "data": {
      "text/html": [
       "<table>\n",
       "<thead><tr><th scope=col>Year</th><th scope=col>Country</th><th scope=col>GDP</th></tr></thead>\n",
       "<tbody>\n",
       "\t<tr><td>1992         </td><td>China        </td><td>1146         </td></tr>\n",
       "\t<tr><td>1993         </td><td>China        </td><td>2342         </td></tr>\n",
       "\t<tr><td>1994         </td><td>United States</td><td> 678         </td></tr>\n",
       "\t<tr><td>1995         </td><td>Russia       </td><td> 212         </td></tr>\n",
       "\t<tr><td>1996         </td><td>Russia       </td><td>  20         </td></tr>\n",
       "\t<tr><td>1993         </td><td>China        </td><td>2342         </td></tr>\n",
       "\t<tr><td>1997         </td><td>Russia       </td><td>  NA         </td></tr>\n",
       "\t<tr><td>1993         </td><td>China        </td><td>2342         </td></tr>\n",
       "</tbody>\n",
       "</table>\n"
      ],
      "text/latex": [
       "\\begin{tabular}{r|lll}\n",
       " Year & Country & GDP\\\\\n",
       "\\hline\n",
       "\t 1992          & China         & 1146         \\\\\n",
       "\t 1993          & China         & 2342         \\\\\n",
       "\t 1994          & United States &  678         \\\\\n",
       "\t 1995          & Russia        &  212         \\\\\n",
       "\t 1996          & Russia        &   20         \\\\\n",
       "\t 1993          & China         & 2342         \\\\\n",
       "\t 1997          & Russia        &   NA         \\\\\n",
       "\t 1993          & China         & 2342         \\\\\n",
       "\\end{tabular}\n"
      ],
      "text/markdown": [
       "\n",
       "| Year | Country | GDP |\n",
       "|---|---|---|\n",
       "| 1992          | China         | 1146          |\n",
       "| 1993          | China         | 2342          |\n",
       "| 1994          | United States |  678          |\n",
       "| 1995          | Russia        |  212          |\n",
       "| 1996          | Russia        |   20          |\n",
       "| 1993          | China         | 2342          |\n",
       "| 1997          | Russia        |   NA          |\n",
       "| 1993          | China         | 2342          |\n",
       "\n"
      ],
      "text/plain": [
       "  Year Country       GDP \n",
       "1 1992 China         1146\n",
       "2 1993 China         2342\n",
       "3 1994 United States  678\n",
       "4 1995 Russia         212\n",
       "5 1996 Russia          20\n",
       "6 1993 China         2342\n",
       "7 1997 Russia          NA\n",
       "8 1993 China         2342"
      ]
     },
     "metadata": {},
     "output_type": "display_data"
    }
   ],
   "source": [
    "names(dt.test)[names(dt.test)==\"Value\"]<-\"GDP\"\n",
    "dt.test"
   ]
  },
  {
   "cell_type": "markdown",
   "metadata": {},
   "source": [
    "# To be covered next time\n",
    "##### if there is a next time......\n",
    "## Data Manipulation \n",
    "- Sort data\n",
    "- Merge data\n",
    "## Useful Tricks \n",
    "- string operations\n",
    "- fuzzy match\n",
    "## Loop (Maybe)"
   ]
  },
  {
   "cell_type": "code",
   "execution_count": 25,
   "metadata": {},
   "outputs": [
    {
     "data": {
      "text/html": [
       "<table>\n",
       "<thead><tr><th scope=col>Year</th><th scope=col>Country</th><th scope=col>GDP</th></tr></thead>\n",
       "<tbody>\n",
       "\t<tr><td>1992         </td><td>China        </td><td>1146         </td></tr>\n",
       "\t<tr><td>1993         </td><td>China        </td><td>2342         </td></tr>\n",
       "\t<tr><td>1993         </td><td>China        </td><td>2342         </td></tr>\n",
       "\t<tr><td>1993         </td><td>China        </td><td>2342         </td></tr>\n",
       "\t<tr><td>1994         </td><td>United States</td><td> 678         </td></tr>\n",
       "\t<tr><td>1995         </td><td>Russia       </td><td> 212         </td></tr>\n",
       "\t<tr><td>1996         </td><td>Russia       </td><td>  20         </td></tr>\n",
       "\t<tr><td>1997         </td><td>Russia       </td><td>  NA         </td></tr>\n",
       "</tbody>\n",
       "</table>\n"
      ],
      "text/latex": [
       "\\begin{tabular}{r|lll}\n",
       " Year & Country & GDP\\\\\n",
       "\\hline\n",
       "\t 1992          & China         & 1146         \\\\\n",
       "\t 1993          & China         & 2342         \\\\\n",
       "\t 1993          & China         & 2342         \\\\\n",
       "\t 1993          & China         & 2342         \\\\\n",
       "\t 1994          & United States &  678         \\\\\n",
       "\t 1995          & Russia        &  212         \\\\\n",
       "\t 1996          & Russia        &   20         \\\\\n",
       "\t 1997          & Russia        &   NA         \\\\\n",
       "\\end{tabular}\n"
      ],
      "text/markdown": [
       "\n",
       "| Year | Country | GDP |\n",
       "|---|---|---|\n",
       "| 1992          | China         | 1146          |\n",
       "| 1993          | China         | 2342          |\n",
       "| 1993          | China         | 2342          |\n",
       "| 1993          | China         | 2342          |\n",
       "| 1994          | United States |  678          |\n",
       "| 1995          | Russia        |  212          |\n",
       "| 1996          | Russia        |   20          |\n",
       "| 1997          | Russia        |   NA          |\n",
       "\n"
      ],
      "text/plain": [
       "  Year Country       GDP \n",
       "1 1992 China         1146\n",
       "2 1993 China         2342\n",
       "3 1993 China         2342\n",
       "4 1993 China         2342\n",
       "5 1994 United States  678\n",
       "6 1995 Russia         212\n",
       "7 1996 Russia          20\n",
       "8 1997 Russia          NA"
      ]
     },
     "metadata": {},
     "output_type": "display_data"
    }
   ],
   "source": [
    "# see ?setorder\n",
    "setorder(dt.test)\n",
    "dt.test"
   ]
  },
  {
   "cell_type": "code",
   "execution_count": 26,
   "metadata": {},
   "outputs": [
    {
     "data": {
      "text/html": [
       "<ol class=list-inline>\n",
       "\t<li>'China'</li>\n",
       "\t<li>'United States'</li>\n",
       "\t<li>'Russia'</li>\n",
       "</ol>\n"
      ],
      "text/latex": [
       "\\begin{enumerate*}\n",
       "\\item 'China'\n",
       "\\item 'United States'\n",
       "\\item 'Russia'\n",
       "\\end{enumerate*}\n"
      ],
      "text/markdown": [
       "1. 'China'\n",
       "2. 'United States'\n",
       "3. 'Russia'\n",
       "\n",
       "\n"
      ],
      "text/plain": [
       "[1] \"China\"         \"United States\" \"Russia\"       "
      ]
     },
     "metadata": {},
     "output_type": "display_data"
    },
    {
     "data": {
      "text/html": [
       "<ol class=list-inline>\n",
       "\t<li>'China'</li>\n",
       "\t<li>'United States of America'</li>\n",
       "\t<li>'Russia'</li>\n",
       "</ol>\n"
      ],
      "text/latex": [
       "\\begin{enumerate*}\n",
       "\\item 'China'\n",
       "\\item 'United States of America'\n",
       "\\item 'Russia'\n",
       "\\end{enumerate*}\n"
      ],
      "text/markdown": [
       "1. 'China'\n",
       "2. 'United States of America'\n",
       "3. 'Russia'\n",
       "\n",
       "\n"
      ],
      "text/plain": [
       "[1] \"China\"                    \"United States of America\"\n",
       "[3] \"Russia\"                  "
      ]
     },
     "metadata": {},
     "output_type": "display_data"
    },
    {
     "data": {
      "text/html": [
       "<ol class=list-inline>\n",
       "\t<li>'ChIna'</li>\n",
       "\t<li>'UnIted States'</li>\n",
       "\t<li>'RussIa'</li>\n",
       "</ol>\n"
      ],
      "text/latex": [
       "\\begin{enumerate*}\n",
       "\\item 'ChIna'\n",
       "\\item 'UnIted States'\n",
       "\\item 'RussIa'\n",
       "\\end{enumerate*}\n"
      ],
      "text/markdown": [
       "1. 'ChIna'\n",
       "2. 'UnIted States'\n",
       "3. 'RussIa'\n",
       "\n",
       "\n"
      ],
      "text/plain": [
       "[1] \"ChIna\"         \"UnIted States\" \"RussIa\"       "
      ]
     },
     "metadata": {},
     "output_type": "display_data"
    }
   ],
   "source": [
    "# see ?gsub\n",
    "country<-unique(dt.test$Country)\n",
    "country\n",
    "gsub(pattern=\"States\",replacement=\"States of America\",country)\n",
    "gsub(pattern=\"i\",replacement=\"I\",country)"
   ]
  },
  {
   "cell_type": "code",
   "execution_count": 27,
   "metadata": {},
   "outputs": [
    {
     "data": {
      "text/html": [
       "<ol class=list-inline>\n",
       "\t<li>'China'</li>\n",
       "\t<li>'Japan'</li>\n",
       "\t<li>'Korea North'</li>\n",
       "</ol>\n"
      ],
      "text/latex": [
       "\\begin{enumerate*}\n",
       "\\item 'China'\n",
       "\\item 'Japan'\n",
       "\\item 'Korea North'\n",
       "\\end{enumerate*}\n"
      ],
      "text/markdown": [
       "1. 'China'\n",
       "2. 'Japan'\n",
       "3. 'Korea North'\n",
       "\n",
       "\n"
      ],
      "text/plain": [
       "[1] \"China\"       \"Japan\"       \"Korea North\""
      ]
     },
     "metadata": {},
     "output_type": "display_data"
    },
    {
     "data": {
      "text/html": [
       "'China, United States, Russia'"
      ],
      "text/latex": [
       "'China, United States, Russia'"
      ],
      "text/markdown": [
       "'China, United States, Russia'"
      ],
      "text/plain": [
       "[1] \"China, United States, Russia\""
      ]
     },
     "metadata": {},
     "output_type": "display_data"
    },
    {
     "data": {
      "text/html": [
       "'China;United States;Russia'"
      ],
      "text/latex": [
       "'China;United States;Russia'"
      ],
      "text/markdown": [
       "'China;United States;Russia'"
      ],
      "text/plain": [
       "[1] \"China;United States;Russia\""
      ]
     },
     "metadata": {},
     "output_type": "display_data"
    }
   ],
   "source": [
    "# see ?strsplit,  note that this function returns a list \n",
    "# also see ?toString and ?paste\n",
    "country2<-\"China,Japan,Korea North\"\n",
    "strsplit(country2,\",\")[[1]]\n",
    "toString(country)\n",
    "paste(country,collapse=\";\")    \n",
    "# Be aware of the difference between paste(\"China\",\"Japan\") and paste(c(\"China\",\"Japan\")) "
   ]
  },
  {
   "cell_type": "code",
   "execution_count": 28,
   "metadata": {},
   "outputs": [
    {
     "data": {
      "text/html": [
       "<ol class=list-inline>\n",
       "\t<li>1</li>\n",
       "\t<li>2</li>\n",
       "\t<li>4</li>\n",
       "</ol>\n"
      ],
      "text/latex": [
       "\\begin{enumerate*}\n",
       "\\item 1\n",
       "\\item 2\n",
       "\\item 4\n",
       "\\end{enumerate*}\n"
      ],
      "text/markdown": [
       "1. 1\n",
       "2. 2\n",
       "3. 4\n",
       "\n",
       "\n"
      ],
      "text/plain": [
       "[1] 1 2 4"
      ]
     },
     "metadata": {},
     "output_type": "display_data"
    },
    {
     "data": {
      "text/html": [
       "<ol class=list-inline>\n",
       "\t<li>'Russia'</li>\n",
       "\t<li>'Russia Federation'</li>\n",
       "</ol>\n"
      ],
      "text/latex": [
       "\\begin{enumerate*}\n",
       "\\item 'Russia'\n",
       "\\item 'Russia Federation'\n",
       "\\end{enumerate*}\n"
      ],
      "text/markdown": [
       "1. 'Russia'\n",
       "2. 'Russia Federation'\n",
       "\n",
       "\n"
      ],
      "text/plain": [
       "[1] \"Russia\"            \"Russia Federation\""
      ]
     },
     "metadata": {},
     "output_type": "display_data"
    },
    {
     "data": {
      "text/html": [
       "<ol class=list-inline>\n",
       "\t<li>'Soviet Union'</li>\n",
       "\t<li>'Russia Federation'</li>\n",
       "</ol>\n"
      ],
      "text/latex": [
       "\\begin{enumerate*}\n",
       "\\item 'Soviet Union'\n",
       "\\item 'Russia Federation'\n",
       "\\end{enumerate*}\n"
      ],
      "text/markdown": [
       "1. 'Soviet Union'\n",
       "2. 'Russia Federation'\n",
       "\n",
       "\n"
      ],
      "text/plain": [
       "[1] \"Soviet Union\"      \"Russia Federation\""
      ]
     },
     "metadata": {},
     "output_type": "display_data"
    },
    {
     "data": {
      "text/html": [
       "<ol class=list-inline>\n",
       "\t<li>'China'</li>\n",
       "\t<li>'Soviet Union'</li>\n",
       "\t<li>'Russia Federation'</li>\n",
       "</ol>\n"
      ],
      "text/latex": [
       "\\begin{enumerate*}\n",
       "\\item 'China'\n",
       "\\item 'Soviet Union'\n",
       "\\item 'Russia Federation'\n",
       "\\end{enumerate*}\n"
      ],
      "text/markdown": [
       "1. 'China'\n",
       "2. 'Soviet Union'\n",
       "3. 'Russia Federation'\n",
       "\n",
       "\n"
      ],
      "text/plain": [
       "[1] \"China\"             \"Soviet Union\"      \"Russia Federation\""
      ]
     },
     "metadata": {},
     "output_type": "display_data"
    }
   ],
   "source": [
    "# see ?match  and ?agrep\n",
    "country3<-c(\"China\",\"United States\",\"Soviet Union\",\"Russia\",\"Russia Federation\")\n",
    "match(country,country3)\n",
    "agrep(\"Rusia\",country3,ignore.case = FALSE, value=T,max.distance=0.1)\n",
    "# the most basic but hard to understand function: ?grep\n",
    "# check https://www.rstudio.com/wp-content/uploads/2016/09/RegExCheatsheet.pdf\n",
    "grep(\"i[a-zA-Z]n\",country3,value=T)\n",
    "grep(\"in|i.n\",country3,value=T)"
   ]
  },
  {
   "cell_type": "code",
   "execution_count": 29,
   "metadata": {},
   "outputs": [
    {
     "data": {
      "text/html": [
       "<ol class=list-inline>\n",
       "\t<li>'China~'</li>\n",
       "\t<li>'China~'</li>\n",
       "\t<li>'United States'</li>\n",
       "\t<li>'Soviet Union'</li>\n",
       "\t<li>'Russia'</li>\n",
       "\t<li>'Russia Federation!'</li>\n",
       "\t<li>'Côte d’Ivoire'</li>\n",
       "\t<li>'Côte'</li>\n",
       "\t<li>'Côte'</li>\n",
       "</ol>\n"
      ],
      "text/latex": [
       "\\begin{enumerate*}\n",
       "\\item 'China\\textasciitilde{}'\n",
       "\\item 'China\\textasciitilde{}'\n",
       "\\item 'United States'\n",
       "\\item 'Soviet Union'\n",
       "\\item 'Russia'\n",
       "\\item 'Russia Federation!'\n",
       "\\item 'Côte d’Ivoire'\n",
       "\\item 'Côte'\n",
       "\\item 'Côte'\n",
       "\\end{enumerate*}\n"
      ],
      "text/markdown": [
       "1. 'China~'\n",
       "2. 'China~'\n",
       "3. 'United States'\n",
       "4. 'Soviet Union'\n",
       "5. 'Russia'\n",
       "6. 'Russia Federation!'\n",
       "7. 'Côte d’Ivoire'\n",
       "8. 'Côte'\n",
       "9. 'Côte'\n",
       "\n",
       "\n"
      ],
      "text/plain": [
       "[1] \"China~\"             \"China~\"             \"United States\"     \n",
       "[4] \"Soviet Union\"       \"Russia\"             \"Russia Federation!\"\n",
       "[7] \"Côte d’Ivoire\"      \"Côte\"               \"Côte\"              "
      ]
     },
     "metadata": {},
     "output_type": "display_data"
    },
    {
     "data": {
      "text/html": [
       "<ol class=list-inline>\n",
       "\t<li>'China~'</li>\n",
       "\t<li>'Russia Federation!'</li>\n",
       "\t<li>'Côte d’Ivoire'</li>\n",
       "\t<li>'Côte'</li>\n",
       "</ol>\n"
      ],
      "text/latex": [
       "\\begin{enumerate*}\n",
       "\\item 'China\\textasciitilde{}'\n",
       "\\item 'Russia Federation!'\n",
       "\\item 'Côte d’Ivoire'\n",
       "\\item 'Côte'\n",
       "\\end{enumerate*}\n"
      ],
      "text/markdown": [
       "1. 'China~'\n",
       "2. 'Russia Federation!'\n",
       "3. 'Côte d’Ivoire'\n",
       "4. 'Côte'\n",
       "\n",
       "\n"
      ],
      "text/plain": [
       "[1] \"China~\"             \"Russia Federation!\" \"Côte d’Ivoire\"     \n",
       "[4] \"Côte\"              "
      ]
     },
     "metadata": {},
     "output_type": "display_data"
    },
    {
     "data": {
      "text/html": [
       "<ol class=list-inline>\n",
       "\t<li>'China~'</li>\n",
       "\t<li>'United States'</li>\n",
       "\t<li>'Soviet Union'</li>\n",
       "\t<li>'Russia'</li>\n",
       "\t<li>'Russia Federation!'</li>\n",
       "\t<li>'Côte d’Ivoire'</li>\n",
       "\t<li>'Côte'</li>\n",
       "</ol>\n"
      ],
      "text/latex": [
       "\\begin{enumerate*}\n",
       "\\item 'China\\textasciitilde{}'\n",
       "\\item 'United States'\n",
       "\\item 'Soviet Union'\n",
       "\\item 'Russia'\n",
       "\\item 'Russia Federation!'\n",
       "\\item 'Côte d’Ivoire'\n",
       "\\item 'Côte'\n",
       "\\end{enumerate*}\n"
      ],
      "text/markdown": [
       "1. 'China~'\n",
       "2. 'United States'\n",
       "3. 'Soviet Union'\n",
       "4. 'Russia'\n",
       "5. 'Russia Federation!'\n",
       "6. 'Côte d’Ivoire'\n",
       "7. 'Côte'\n",
       "\n",
       "\n"
      ],
      "text/plain": [
       "[1] \"China~\"             \"United States\"      \"Soviet Union\"      \n",
       "[4] \"Russia\"             \"Russia Federation!\" \"Côte d’Ivoire\"     \n",
       "[7] \"Côte\"              "
      ]
     },
     "metadata": {},
     "output_type": "display_data"
    }
   ],
   "source": [
    "# check ? trimws\n",
    "country4<-c(\"China~\",\"China~\",\"United States\",\"Soviet Union\",\"Russia\",\n",
    "            \"Russia Federation!\",\"Côte d’Ivoire\",\"Côte\",\"Côte  \")\n",
    "trimws(country4,which=\"both\")\n",
    "unique(grep(\"[^a-zA-Z\\\\s]\",trimws(country4,which=\"both\"),value=T,perl=T))\n",
    "unique(grep(\"[[:graph:]]\",trimws(country4,which=\"both\"),value=T,perl=T))\n"
   ]
  },
  {
   "cell_type": "code",
   "execution_count": 30,
   "metadata": {},
   "outputs": [
    {
     "data": {
      "text/html": [
       "<ol class=list-inline>\n",
       "\t<li>'duplicates in datatable.R'</li>\n",
       "\t<li>'ILOSTAT_R_IFS_Download.R'</li>\n",
       "\t<li>'R Tutorial 1 Pardee.ipynb'</li>\n",
       "\t<li>'TestDT.xlsx'</li>\n",
       "</ol>\n"
      ],
      "text/latex": [
       "\\begin{enumerate*}\n",
       "\\item 'duplicates in datatable.R'\n",
       "\\item 'ILOSTAT\\_R\\_IFS\\_Download.R'\n",
       "\\item 'R Tutorial 1 Pardee.ipynb'\n",
       "\\item 'TestDT.xlsx'\n",
       "\\end{enumerate*}\n"
      ],
      "text/markdown": [
       "1. 'duplicates in datatable.R'\n",
       "2. 'ILOSTAT_R_IFS_Download.R'\n",
       "3. 'R Tutorial 1 Pardee.ipynb'\n",
       "4. 'TestDT.xlsx'\n",
       "\n",
       "\n"
      ],
      "text/plain": [
       "[1] \"duplicates in datatable.R\" \"ILOSTAT_R_IFS_Download.R\" \n",
       "[3] \"R Tutorial 1 Pardee.ipynb\" \"TestDT.xlsx\"              "
      ]
     },
     "metadata": {},
     "output_type": "display_data"
    }
   ],
   "source": [
    "# see ?list.files\n",
    "list.files()"
   ]
  },
  {
   "cell_type": "code",
   "execution_count": null,
   "metadata": {},
   "outputs": [],
   "source": []
  }
 ],
 "metadata": {
  "kernelspec": {
   "display_name": "R",
   "language": "R",
   "name": "ir"
  },
  "language_info": {
   "codemirror_mode": "r",
   "file_extension": ".r",
   "mimetype": "text/x-r-source",
   "name": "R",
   "pygments_lexer": "r",
   "version": "3.5.1"
  }
 },
 "nbformat": 4,
 "nbformat_minor": 2
}
